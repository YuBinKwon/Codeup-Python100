{
 "cells": [
  {
   "cell_type": "markdown",
   "metadata": {},
   "source": [
    "## 선택실행구조"
   ]
  },
  {
   "cell_type": "code",
   "execution_count": 1,
   "metadata": {},
   "outputs": [
    {
     "name": "stdout",
     "output_type": "stream",
     "text": [
      "1 2 4\n",
      "2\n",
      "4\n"
     ]
    }
   ],
   "source": [
    "a,b,c=map(int,input().split())\n",
    "if a%2 == 0 :\n",
    "    print(a)\n",
    "if b%2 == 0 :\n",
    "    print(b)\n",
    "if c%2 == 0 :\n",
    "    print(c)"
   ]
  },
  {
   "cell_type": "code",
   "execution_count": 2,
   "metadata": {},
   "outputs": [
    {
     "name": "stdout",
     "output_type": "stream",
     "text": [
      "1 2 4\n",
      "odd\n",
      "even\n",
      "even\n"
     ]
    }
   ],
   "source": [
    "a,b,c=map(int,input().split())\n",
    "if a%2 == 0 :\n",
    "    print(\"even\")\n",
    "else:\n",
    "    print(\"odd\")\n",
    "if b%2 == 0 :\n",
    "    print(\"even\")\n",
    "else:\n",
    "    print(\"odd\")\n",
    "if c%2 == 0 :\n",
    "    print(\"even\")\n",
    "else:\n",
    "    print(\"odd\")"
   ]
  },
  {
   "cell_type": "code",
   "execution_count": 3,
   "metadata": {},
   "outputs": [
    {
     "name": "stdout",
     "output_type": "stream",
     "text": [
      "-2\n",
      "A\n"
     ]
    }
   ],
   "source": [
    "n=int(input())\n",
    "if n < 0 :\n",
    "    if n%2 == 0 :\n",
    "        print(\"A\")\n",
    "    else :\n",
    "        print(\"B\")\n",
    "else :\n",
    "    if n%2 == 0 :\n",
    "        print(\"C\")\n",
    "    else :\n",
    "        print(\"D\")"
   ]
  },
  {
   "cell_type": "code",
   "execution_count": 4,
   "metadata": {},
   "outputs": [
    {
     "name": "stdout",
     "output_type": "stream",
     "text": [
      "39\n",
      "D\n"
     ]
    }
   ],
   "source": [
    "n=int(input())\n",
    "if n>=90 :\n",
    "    print('A')\n",
    "elif n>=70 :\n",
    "    print('B')\n",
    "elif n>=40 :\n",
    "    print('C')\n",
    "else :\n",
    "    print('D')"
   ]
  },
  {
   "cell_type": "code",
   "execution_count": 5,
   "metadata": {},
   "outputs": [
    {
     "name": "stdout",
     "output_type": "stream",
     "text": [
      "A\n",
      "best!!!\n"
     ]
    }
   ],
   "source": [
    "c=input()\n",
    "if c=='A':\n",
    "    print(\"best!!!\")\n",
    "elif c=='B':\n",
    "    print(\"good!!\")\n",
    "elif c=='C':\n",
    "    print(\"run!\")\n",
    "elif c=='D':\n",
    "    print(\"slowly~\")\n",
    "else :\n",
    "    print(\"what?\")"
   ]
  },
  {
   "cell_type": "code",
   "execution_count": 8,
   "metadata": {},
   "outputs": [
    {
     "name": "stdout",
     "output_type": "stream",
     "text": [
      "2\n",
      "winter\n"
     ]
    }
   ],
   "source": [
    "m=int(input())\n",
    "if m//3 == 0 or m//3 == 4: # 12,1,2\n",
    "    print(\"winter\")\n",
    "elif m//3 == 1:            # 3,4,5\n",
    "    print(\"spring\")\n",
    "elif m//3 == 2:            # 6,7,8\n",
    "    print(\"summer\")\n",
    "elif m//3 == 3:            # 9,10,11\n",
    "    print(\"fall\")"
   ]
  },
  {
   "cell_type": "markdown",
   "metadata": {},
   "source": [
    "## 반복실행구조\n",
    "### while 조건식 :\n",
    "###  ...\n",
    "###  ...\n",
    "\n",
    "#### 1. 조건식을 평가한다.\n",
    "#### 2. True 인 경우 코드블록을 실행한다.\n",
    "#### 3. 다시 조건식을 평가한다.\n",
    "#### 4. True 인 경우 코드블록을 실행한다.\n",
    "\n",
    "#### 조건식의 평가 값이 False 인 경우 반복을 중단하고, 그 다음 명령을 실행한다.\n",
    "#### 조건식의 평가 결과가 True 동안만 반복 실행된다. "
   ]
  },
  {
   "cell_type": "code",
   "execution_count": 11,
   "metadata": {},
   "outputs": [
    {
     "name": "stdout",
     "output_type": "stream",
     "text": [
      "1\n",
      "1\n",
      "2\n",
      "2\n",
      "0\n"
     ]
    }
   ],
   "source": [
    "while True :\n",
    "    n=int(input())\n",
    "    if n==0 :\n",
    "        break\n",
    "    print(n)"
   ]
  },
  {
   "cell_type": "code",
   "execution_count": 12,
   "metadata": {},
   "outputs": [
    {
     "name": "stdout",
     "output_type": "stream",
     "text": [
      "5\n",
      "5\n",
      "4\n",
      "3\n",
      "2\n",
      "1\n"
     ]
    }
   ],
   "source": [
    "n=int(input())\n",
    "while n>0:\n",
    "    print(n)\n",
    "    n=n-1"
   ]
  },
  {
   "cell_type": "code",
   "execution_count": 13,
   "metadata": {},
   "outputs": [
    {
     "name": "stdout",
     "output_type": "stream",
     "text": [
      "f\n",
      "a\n",
      "b\n",
      "c\n",
      "d\n",
      "e\n",
      "f\n"
     ]
    }
   ],
   "source": [
    "n=ord(input())\n",
    "i=ord('a')\n",
    "while i<=n :\n",
    "    print(chr(i))\n",
    "    i=i+1"
   ]
  },
  {
   "cell_type": "markdown",
   "metadata": {},
   "source": [
    "#### print(..., end=' ')  -> 값 출력 후 공백문자 ' '를 출력\n",
    "#### end='\\n'로 작성하거나 생략하면, 값을 출력한 후 마지막(end)에 줄바꿈(newline)"
   ]
  },
  {
   "cell_type": "code",
   "execution_count": 14,
   "metadata": {},
   "outputs": [
    {
     "name": "stdout",
     "output_type": "stream",
     "text": [
      "f\n",
      "a b c d e f "
     ]
    }
   ],
   "source": [
    "c=ord(input())\n",
    "i = ord('a')\n",
    "while i<=c:\n",
    "    print(chr(i), end=' ')\n",
    "    i+=1"
   ]
  },
  {
   "cell_type": "code",
   "execution_count": 15,
   "metadata": {},
   "outputs": [
    {
     "name": "stdout",
     "output_type": "stream",
     "text": [
      "5\n",
      "0\n",
      "1\n",
      "2\n",
      "3\n",
      "4\n",
      "5\n"
     ]
    }
   ],
   "source": [
    "n=int(input())\n",
    "i=0\n",
    "while i<=n:\n",
    "    print(i)\n",
    "    i+=1"
   ]
  },
  {
   "cell_type": "markdown",
   "metadata": {},
   "source": [
    "### for i in range(n) :\n",
    "#### range(n)에 들어있는(in) 각각의 수에 대해서(for) 순서대로 i에 저장\n",
    "#### 이때의 for는 각각의 값에 대하여... 라는 for each 의 의미\n",
    "\n",
    "#### range(끝)\n",
    "#### range(시작, 끝)\n",
    "#### range(시작, 끝, 증감)\n",
    "#### 시작 수는 포함이고, 끝 수는 포함되지 않는다. [시작, 끝)\n",
    "#### 증감할 수를 작성하지 않으면 +1"
   ]
  },
  {
   "cell_type": "code",
   "execution_count": 16,
   "metadata": {},
   "outputs": [
    {
     "name": "stdout",
     "output_type": "stream",
     "text": [
      "5\n",
      "0\n",
      "1\n",
      "2\n",
      "3\n",
      "4\n",
      "5\n"
     ]
    }
   ],
   "source": [
    "n=int(input())\n",
    "for i in range(0,n+1):\n",
    "    print(i)"
   ]
  },
  {
   "cell_type": "code",
   "execution_count": null,
   "metadata": {},
   "outputs": [],
   "source": []
  }
 ],
 "metadata": {
  "kernelspec": {
   "display_name": "Python 3",
   "language": "python",
   "name": "python3"
  },
  "language_info": {
   "codemirror_mode": {
    "name": "ipython",
    "version": 3
   },
   "file_extension": ".py",
   "mimetype": "text/x-python",
   "name": "python",
   "nbconvert_exporter": "python",
   "pygments_lexer": "ipython3",
   "version": "3.8.3"
  }
 },
 "nbformat": 4,
 "nbformat_minor": 4
}
