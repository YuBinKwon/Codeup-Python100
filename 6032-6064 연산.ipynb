{
 "cells": [
  {
   "cell_type": "markdown",
   "metadata": {},
   "source": [
    "## 산술연산"
   ]
  },
  {
   "cell_type": "code",
   "execution_count": 7,
   "metadata": {},
   "outputs": [
    {
     "name": "stdout",
     "output_type": "stream",
     "text": [
      "a\n",
      "b\n",
      "97\n",
      "98\n"
     ]
    },
    {
     "ename": "TypeError",
     "evalue": "can only concatenate str (not \"int\") to str",
     "output_type": "error",
     "traceback": [
      "\u001b[1;31m---------------------------------------------------------------------------\u001b[0m",
      "\u001b[1;31mTypeError\u001b[0m                                 Traceback (most recent call last)",
      "\u001b[1;32m<ipython-input-7-5ff3d3ef0cea>\u001b[0m in \u001b[0;36m<module>\u001b[1;34m\u001b[0m\n\u001b[0;32m      4\u001b[0m \u001b[0mprint\u001b[0m\u001b[1;33m(\u001b[0m\u001b[0ma\u001b[0m\u001b[1;33m)\u001b[0m \u001b[1;31m#ord로 받은 문자의 정수값\u001b[0m\u001b[1;33m\u001b[0m\u001b[1;33m\u001b[0m\u001b[0m\n\u001b[0;32m      5\u001b[0m \u001b[0mprint\u001b[0m\u001b[1;33m(\u001b[0m\u001b[0ma\u001b[0m\u001b[1;33m+\u001b[0m\u001b[1;36m1\u001b[0m\u001b[1;33m)\u001b[0m \u001b[1;31m# 유니코드 정수값 연산\u001b[0m\u001b[1;33m\u001b[0m\u001b[1;33m\u001b[0m\u001b[0m\n\u001b[1;32m----> 6\u001b[1;33m \u001b[0mprint\u001b[0m\u001b[1;33m(\u001b[0m\u001b[0mchr\u001b[0m\u001b[1;33m(\u001b[0m\u001b[0ma\u001b[0m\u001b[1;33m)\u001b[0m\u001b[1;33m+\u001b[0m\u001b[1;36m1\u001b[0m\u001b[1;33m)\u001b[0m \u001b[1;31m#에러\u001b[0m\u001b[1;33m\u001b[0m\u001b[1;33m\u001b[0m\u001b[0m\n\u001b[0m",
      "\u001b[1;31mTypeError\u001b[0m: can only concatenate str (not \"int\") to str"
     ]
    }
   ],
   "source": [
    "a=ord(input())\n",
    "print(chr(a+1)) #유니코드 정수값끼리 더해서 문자로 보여줌\n",
    "\n",
    "print(a) #ord로 받은 문자의 정수값\n",
    "print(a+1) # 유니코드 정수값 연산\n",
    "print(chr(a)+1) #에러"
   ]
  },
  {
   "cell_type": "code",
   "execution_count": 9,
   "metadata": {},
   "outputs": [
    {
     "name": "stdout",
     "output_type": "stream",
     "text": [
      "word 3\n",
      "wordwordword\n"
     ]
    }
   ],
   "source": [
    "w,n=input().split()\n",
    "print(w*int(n)) #문자 여러 번 출력(문자*정수)"
   ]
  },
  {
   "cell_type": "code",
   "execution_count": 10,
   "metadata": {},
   "outputs": [
    {
     "name": "stdout",
     "output_type": "stream",
     "text": [
      "2 3\n",
      "8\n"
     ]
    }
   ],
   "source": [
    "a,b=map(int,input().split())\n",
    "c=a**b # a의 b제곱\n",
    "print(c)"
   ]
  },
  {
   "cell_type": "code",
   "execution_count": 11,
   "metadata": {},
   "outputs": [
    {
     "name": "stdout",
     "output_type": "stream",
     "text": [
      "3.2 1.4\n",
      "2.000\n",
      "2.286\n"
     ]
    }
   ],
   "source": [
    "f1,f2=map(float,input().split())\n",
    "f3=f1//f2 #몫\n",
    "print(format(f3,\".3f\"))\n",
    "f4=f1/f2 #나눗셈\n",
    "print(format(f4,\".3f\"))"
   ]
  },
  {
   "cell_type": "code",
   "execution_count": 12,
   "metadata": {},
   "outputs": [
    {
     "name": "stdout",
     "output_type": "stream",
     "text": [
      "2 3\n",
      "5\n",
      "-1\n",
      "6\n",
      "0\n",
      "2\n",
      "0.67\n"
     ]
    }
   ],
   "source": [
    "a,b=map(int,input().split())\n",
    "print(a+b)\n",
    "print(a-b)\n",
    "print(a*b)\n",
    "print(a//b)\n",
    "print(a%b)\n",
    "print(format(a/b,\".2f\"))"
   ]
  },
  {
   "cell_type": "code",
   "execution_count": 13,
   "metadata": {},
   "outputs": [
    {
     "name": "stdout",
     "output_type": "stream",
     "text": [
      "1 2 3\n",
      "6 2.00\n",
      "6 2.00\n"
     ]
    }
   ],
   "source": [
    "a,b,c=map(int,input().split())\n",
    "s=a+b+c\n",
    "avg=s/3\n",
    "\n",
    "print(\"%d %.2f\" %(s,avg))\n",
    "print(s,format(avg,\".2f\"))"
   ]
  },
  {
   "cell_type": "markdown",
   "metadata": {},
   "source": [
    "## 비트시프트 연산\n",
    "#### 10 << 1 을 계산하면 10100 이 된다. 20으로 2배\n",
    "#### 10 >> 1 을 계산하면 101 이 된다. 5로 0.5배\n",
    "#### n = 0o10 -> 8진수(octal) 10으로 인식되어 10진수 8값이 저장,\n",
    "#### n = 0xf 나 n = 0XF -> 16진수(hexadecimal) F로 인식되어 10진수 15값으로 저장"
   ]
  },
  {
   "cell_type": "code",
   "execution_count": 14,
   "metadata": {},
   "outputs": [
    {
     "name": "stdout",
     "output_type": "stream",
     "text": [
      "1024\n",
      "2048\n"
     ]
    }
   ],
   "source": [
    "n=int(input())\n",
    "print(n<<1)"
   ]
  },
  {
   "cell_type": "code",
   "execution_count": 16,
   "metadata": {},
   "outputs": [
    {
     "name": "stdout",
     "output_type": "stream",
     "text": [
      "1 3\n",
      "8\n"
     ]
    }
   ],
   "source": [
    "a,b=map(int,input().split())\n",
    "print(a<<b) # a를 2의b배 곱한 값"
   ]
  },
  {
   "cell_type": "markdown",
   "metadata": {},
   "source": [
    "## 비교연산\n",
    "#### 비교/관계연산자 \n",
    "#### <, >, <=, >=, ==(같다), !=(다르다)"
   ]
  },
  {
   "cell_type": "code",
   "execution_count": 17,
   "metadata": {},
   "outputs": [
    {
     "name": "stdout",
     "output_type": "stream",
     "text": [
      "1 9\n",
      "True\n"
     ]
    }
   ],
   "source": [
    "a,b=map(int,input().split())\n",
    "print(a<b)"
   ]
  },
  {
   "cell_type": "markdown",
   "metadata": {},
   "source": [
    "## 논리연산\n",
    "#### bool( ) -> 정수값 0은 False(거짓), 그 외의 값들은 모두 True(참)\n",
    "#### 참, 거짓의 논리값 인 불(boolean) 값을 다루어주는 예약어 not, and, or"
   ]
  },
  {
   "cell_type": "code",
   "execution_count": 19,
   "metadata": {},
   "outputs": [
    {
     "name": "stdout",
     "output_type": "stream",
     "text": [
      "5\n",
      "True\n"
     ]
    }
   ],
   "source": [
    "n=int(input())\n",
    "print(bool(n))"
   ]
  },
  {
   "cell_type": "code",
   "execution_count": 20,
   "metadata": {},
   "outputs": [
    {
     "name": "stdout",
     "output_type": "stream",
     "text": [
      "5\n",
      "False\n"
     ]
    }
   ],
   "source": [
    "n=bool(int(input()))\n",
    "print(not n) #참 거짓 바꾸기"
   ]
  },
  {
   "cell_type": "code",
   "execution_count": 25,
   "metadata": {},
   "outputs": [
    {
     "name": "stdout",
     "output_type": "stream",
     "text": [
      "0 4\n",
      "False\n"
     ]
    }
   ],
   "source": [
    "a,b=map(int,input().split())\n",
    "print(bool(a) and bool(b))"
   ]
  },
  {
   "cell_type": "code",
   "execution_count": 26,
   "metadata": {},
   "outputs": [
    {
     "name": "stdout",
     "output_type": "stream",
     "text": [
      "0 4\n",
      "False\n"
     ]
    }
   ],
   "source": [
    "a,b=input().split()\n",
    "print(bool(int(a)) and bool(int(b)))"
   ]
  },
  {
   "cell_type": "code",
   "execution_count": 27,
   "metadata": {},
   "outputs": [
    {
     "name": "stdout",
     "output_type": "stream",
     "text": [
      "0 4\n",
      "True True\n",
      "True\n"
     ]
    }
   ],
   "source": [
    "a,b=map(bool,input().split()) # map으로 bool 맵핑시 0이 True로 나옴 (왜???)\n",
    "print(a,b)\n",
    "print(a and b)"
   ]
  },
  {
   "cell_type": "code",
   "execution_count": 30,
   "metadata": {},
   "outputs": [
    {
     "name": "stdout",
     "output_type": "stream",
     "text": [
      "1 0\n",
      "True\n",
      "False\n",
      "False\n"
     ]
    }
   ],
   "source": [
    "a,b=map(int,input().split())\n",
    "c=bool(a)\n",
    "d=bool(b)\n",
    "print((c and (not d)) or ((not c) and d)) # nor 게이트\n",
    "print(not ((c and (not d)) or ((not c) and d))) # nand 게이트\n",
    "print((c and d) or ((not c) and (not d))) # nand 게이트"
   ]
  },
  {
   "cell_type": "markdown",
   "metadata": {},
   "source": [
    "## 비트단위 논리연산\n",
    "#### 비트단위(bitwise) 연산자\n",
    "#### ~(bitwise not), &(bitwise and), |(bitwise or), ^(bitwise xor),\n",
    "#### <<(bitwise left shift), >>(bitwise right shift)"
   ]
  },
  {
   "cell_type": "code",
   "execution_count": 1,
   "metadata": {},
   "outputs": [
    {
     "name": "stdout",
     "output_type": "stream",
     "text": [
      "2\n",
      "-3\n"
     ]
    }
   ],
   "source": [
    "a=int(input())\n",
    "print(~a) # 비트단위 not"
   ]
  },
  {
   "cell_type": "code",
   "execution_count": 4,
   "metadata": {},
   "outputs": [
    {
     "name": "stdout",
     "output_type": "stream",
     "text": [
      "3 5\n",
      "1\n",
      "7\n",
      "6\n"
     ]
    }
   ],
   "source": [
    "a,b=map(int,input().split())\n",
    "print(a&b) # 비트단위 and\n",
    "print(a|b) # 비트단위 or\n",
    "print(a^b) # 비트단위 xor"
   ]
  },
  {
   "cell_type": "markdown",
   "metadata": {},
   "source": [
    "## 3항 연산 \n",
    "#### x if C else y\n",
    "#### - C : True 또는 False 를 평가할 조건식(conditional expression) 또는 값\n",
    "#### - x : C의 평가 결과가 True 일 때 사용할 값\n",
    "#### - y : C의 평가 결과가 True 가 아닐 때 사용할 값\n",
    "#### 조건식 또는 값이 True 이면 x 값이 사용되고, True가 아니면 y 값이 사용"
   ]
  },
  {
   "cell_type": "code",
   "execution_count": 8,
   "metadata": {},
   "outputs": [
    {
     "name": "stdout",
     "output_type": "stream",
     "text": [
      "3 5\n",
      "5\n"
     ]
    }
   ],
   "source": [
    "# 큰 값 출력\n",
    "a,b=map(int,input().split())\n",
    "c = a if(a>=b) else b\n",
    "print(c)"
   ]
  },
  {
   "cell_type": "code",
   "execution_count": 9,
   "metadata": {},
   "outputs": [
    {
     "name": "stdout",
     "output_type": "stream",
     "text": [
      "8 -1 3\n",
      "-1\n"
     ]
    }
   ],
   "source": [
    "# < 3항 연산 중첩 >\n",
    "# 작은 값 출력\n",
    "a,b,c=map(int,input().split())\n",
    "m = (a if a<=b else b) if ((a if a<=b else b)<=c) else c\n",
    "print(m)"
   ]
  },
  {
   "cell_type": "code",
   "execution_count": null,
   "metadata": {},
   "outputs": [],
   "source": []
  }
 ],
 "metadata": {
  "kernelspec": {
   "display_name": "Python 3",
   "language": "python",
   "name": "python3"
  },
  "language_info": {
   "codemirror_mode": {
    "name": "ipython",
    "version": 3
   },
   "file_extension": ".py",
   "mimetype": "text/x-python",
   "name": "python",
   "nbconvert_exporter": "python",
   "pygments_lexer": "ipython3",
   "version": "3.8.3"
  }
 },
 "nbformat": 4,
 "nbformat_minor": 4
}
