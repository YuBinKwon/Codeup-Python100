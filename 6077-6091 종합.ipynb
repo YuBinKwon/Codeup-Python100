{
 "cells": [
  {
   "cell_type": "code",
   "execution_count": 2,
   "metadata": {},
   "outputs": [
    {
     "name": "stdout",
     "output_type": "stream",
     "text": [
      "5\n",
      "6\n"
     ]
    }
   ],
   "source": [
    "# 6077\n",
    "n=int(input())\n",
    "m=0\n",
    "for i in range(1,n+1):\n",
    "    if i%2==0:\n",
    "        m=m+i\n",
    "print(m)"
   ]
  },
  {
   "cell_type": "code",
   "execution_count": 4,
   "metadata": {},
   "outputs": [
    {
     "name": "stdout",
     "output_type": "stream",
     "text": [
      "a\n",
      "a\n",
      "c\n",
      "c\n",
      "q\n",
      "q\n"
     ]
    }
   ],
   "source": [
    "# 6078\n",
    "while True:\n",
    "    c=ord(input())\n",
    "    print(chr(c))\n",
    "    if chr(c)=='q':\n",
    "        break"
   ]
  },
  {
   "cell_type": "code",
   "execution_count": 5,
   "metadata": {},
   "outputs": [
    {
     "name": "stdout",
     "output_type": "stream",
     "text": [
      "a\n",
      "a\n",
      "c\n",
      "c\n",
      "q\n",
      "q\n"
     ]
    }
   ],
   "source": [
    "while True:\n",
    "    c=input()\n",
    "    print(c)\n",
    "    if c=='q':\n",
    "        break"
   ]
  },
  {
   "cell_type": "code",
   "execution_count": 15,
   "metadata": {},
   "outputs": [
    {
     "name": "stdout",
     "output_type": "stream",
     "text": [
      "55\n",
      "10\n"
     ]
    }
   ],
   "source": [
    "# 6079\n",
    "n=int(input())\n",
    "s=0\n",
    "for i in range(1,n+1):\n",
    "    s=s+i\n",
    "    if s>=n:\n",
    "        print(i)\n",
    "        break"
   ]
  },
  {
   "cell_type": "code",
   "execution_count": 1,
   "metadata": {},
   "outputs": [
    {
     "name": "stdout",
     "output_type": "stream",
     "text": [
      "2 3\n",
      "1 1\n",
      "1 2\n",
      "1 3\n",
      "2 1\n",
      "2 2\n",
      "2 3\n"
     ]
    }
   ],
   "source": [
    "# 6080\n",
    "n,m=map(int,input().split())\n",
    "for i in range(1,n+1):\n",
    "    for j in range(1,m+1):\n",
    "        print(i,j)"
   ]
  },
  {
   "cell_type": "code",
   "execution_count": 4,
   "metadata": {},
   "outputs": [
    {
     "name": "stdout",
     "output_type": "stream",
     "text": [
      "B\n",
      "B*1=B\n",
      "B*2=16\n",
      "B*3=21\n",
      "B*4=2C\n",
      "B*5=37\n",
      "B*6=42\n",
      "B*7=4D\n",
      "B*8=58\n",
      "B*9=63\n",
      "B*A=6E\n",
      "B*B=79\n",
      "B*C=84\n",
      "B*D=8F\n",
      "B*E=9A\n",
      "B*F=A5\n"
     ]
    }
   ],
   "source": [
    "# 6081\n",
    "n=int(input(),16)\n",
    "for i in range(1,16):\n",
    "    print(\"%X*%X=%X\" %(n,i,n*i))"
   ]
  },
  {
   "cell_type": "code",
   "execution_count": 10,
   "metadata": {},
   "outputs": [
    {
     "name": "stdout",
     "output_type": "stream",
     "text": [
      "29\n",
      "1 2 X 4 5 X 7 8 X 10 11 12 X 14 15 X 17 18 X 20 21 22 X 24 25 X 27 28 X "
     ]
    }
   ],
   "source": [
    "# 6082 (30미만의 수)\n",
    "n=int(input())\n",
    "for i in range(1,n+1):\n",
    "    if (i%10==3) or (i%10==6) or (i%10==9): # 나머지가 3,6,9 인 것\n",
    "        print(\"X\",end=\" \")\n",
    "    else:\n",
    "        print(i,end=\" \")"
   ]
  },
  {
   "cell_type": "code",
   "execution_count": 11,
   "metadata": {},
   "outputs": [
    {
     "name": "stdout",
     "output_type": "stream",
     "text": [
      "72\n",
      "1 2 X 4 5 X 7 8 X 10 11 12 X 14 15 X 17 18 X 20 21 22 X 24 25 X 27 28 X X X X XX X X XX X X XX 40 41 42 X 44 45 X 47 48 X 50 51 52 X 54 55 X 57 58 X X X X XX X X XX X X XX 70 71 72 "
     ]
    }
   ],
   "source": [
    "# 6082+ (30이상 100미만)\n",
    "n=int(input())\n",
    "for i in range(1,n+1):\n",
    "    if (i//10==3) or (i//10==6) or (i//10==9): # 십의 자리 수가 3,6,9 인 것\n",
    "        if (i%10==3) or (i%10==6) or (i%10==9): # 나머지가 3,6,9 인 것\n",
    "            print(\"XX\",end=\" \")\n",
    "        else:\n",
    "            print(\"X\",end=\" \")\n",
    "    else:\n",
    "        if (i%10==3) or (i%10==6) or (i%10==9): # 나머지가 3,6,9 인 것\n",
    "            print(\"X\",end=\" \")\n",
    "        else:\n",
    "            print(i,end=\" \")"
   ]
  },
  {
   "cell_type": "code",
   "execution_count": 13,
   "metadata": {},
   "outputs": [
    {
     "name": "stdout",
     "output_type": "stream",
     "text": [
      "2 2 2\n",
      "0 0 0\n",
      "0 0 1\n",
      "0 1 0\n",
      "0 1 1\n",
      "1 0 0\n",
      "1 0 1\n",
      "1 1 0\n",
      "1 1 1\n",
      "8\n"
     ]
    }
   ],
   "source": [
    "# 6083\n",
    "r,g,b=map(int,input().split())\n",
    "count=0\n",
    "for i in range(r):\n",
    "    for j in range(g):\n",
    "        for k in range(b):\n",
    "            print(i,j,k)\n",
    "            count+=1\n",
    "print(count)"
   ]
  },
  {
   "cell_type": "code",
   "execution_count": 19,
   "metadata": {},
   "outputs": [
    {
     "name": "stdout",
     "output_type": "stream",
     "text": [
      "44100 16 2 10\n",
      "1.7 MB\n",
      "1.7 MB\n"
     ]
    }
   ],
   "source": [
    "# 6084\n",
    "h,b,c,s=map(int,input().split())\n",
    "mb=h*b*c*s/8/1024/1024\n",
    "print(\"%.1f MB\" %mb)\n",
    "print(format(mb,\".1f\"),\"MB\")"
   ]
  },
  {
   "cell_type": "code",
   "execution_count": 21,
   "metadata": {},
   "outputs": [
    {
     "name": "stdout",
     "output_type": "stream",
     "text": [
      "1024 768 24\n",
      "2.25 MB\n"
     ]
    }
   ],
   "source": [
    "# 6085\n",
    "w,h,b=map(int,input().split())\n",
    "mb=w*h*b/8/1024/1024\n",
    "print(format(mb,\".2f\"),\"MB\")"
   ]
  },
  {
   "cell_type": "code",
   "execution_count": 25,
   "metadata": {},
   "outputs": [
    {
     "name": "stdout",
     "output_type": "stream",
     "text": [
      "57\n",
      "66\n"
     ]
    }
   ],
   "source": [
    "# 6086\n",
    "n=int(input())\n",
    "s=0\n",
    "c=1\n",
    "while True:\n",
    "    s+=c\n",
    "    c+=1\n",
    "    if s>=n:\n",
    "        break\n",
    "print(s)"
   ]
  },
  {
   "cell_type": "code",
   "execution_count": 27,
   "metadata": {},
   "outputs": [
    {
     "name": "stdout",
     "output_type": "stream",
     "text": [
      "15\n",
      "1 2 4 5 7 8 10 11 13 14 "
     ]
    }
   ],
   "source": [
    "# 6087\n",
    "n=int(input())\n",
    "for i in range(1,n+1):\n",
    "    if i%3!=0:\n",
    "        print(i,end=' ')"
   ]
  },
  {
   "cell_type": "code",
   "execution_count": 28,
   "metadata": {},
   "outputs": [
    {
     "name": "stdout",
     "output_type": "stream",
     "text": [
      "1 3 5\n",
      "13\n"
     ]
    }
   ],
   "source": [
    "# 6088\n",
    "a,d,n=map(int,input().split())\n",
    "s=a+(n-1)*d\n",
    "print(s)"
   ]
  },
  {
   "cell_type": "code",
   "execution_count": 30,
   "metadata": {},
   "outputs": [
    {
     "name": "stdout",
     "output_type": "stream",
     "text": [
      "2 3 7\n",
      "1458\n"
     ]
    }
   ],
   "source": [
    "# 6089\n",
    "a,r,n=map(int,input().split())\n",
    "s=a*r**(n-1)\n",
    "print(s)"
   ]
  },
  {
   "cell_type": "code",
   "execution_count": 35,
   "metadata": {},
   "outputs": [
    {
     "name": "stdout",
     "output_type": "stream",
     "text": [
      "1 -2 1 8\n",
      "-85\n"
     ]
    }
   ],
   "source": [
    "# 6090\n",
    "a,m,d,n=map(int,input().split())\n",
    "s=a\n",
    "for i in range (n-1):\n",
    "    s=s*m+d\n",
    "print(s)"
   ]
  },
  {
   "cell_type": "code",
   "execution_count": 36,
   "metadata": {},
   "outputs": [
    {
     "name": "stdout",
     "output_type": "stream",
     "text": [
      "3 7 9\n",
      "63\n"
     ]
    }
   ],
   "source": [
    "# 6091\n",
    "a,b,c=map(int,input().split())\n",
    "d=1\n",
    "while True:\n",
    "    if (d%a==0)and(d%b==0)and(d%c==0):\n",
    "        break\n",
    "    else:\n",
    "        d+=1\n",
    "print(d)"
   ]
  },
  {
   "cell_type": "code",
   "execution_count": null,
   "metadata": {},
   "outputs": [],
   "source": []
  }
 ],
 "metadata": {
  "kernelspec": {
   "display_name": "Python 3",
   "language": "python",
   "name": "python3"
  },
  "language_info": {
   "codemirror_mode": {
    "name": "ipython",
    "version": 3
   },
   "file_extension": ".py",
   "mimetype": "text/x-python",
   "name": "python",
   "nbconvert_exporter": "python",
   "pygments_lexer": "ipython3",
   "version": "3.8.3"
  }
 },
 "nbformat": 4,
 "nbformat_minor": 4
}
