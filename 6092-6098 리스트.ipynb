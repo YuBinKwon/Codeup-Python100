{
 "cells": [
  {
   "cell_type": "markdown",
   "metadata": {},
   "source": [
    "## 리스트\n",
    "#### - d = []               어떤 데이터 목록(list) 을 순서대로 저장하기 위해 아무것도 없는 리스트 변수 만들기\n",
    "#### - d.append(값)  d 리스트의 마지막에 원하는 값을 추가(append)해 넣음 \n",
    "#### - d[a[i]] += 1      2중 리스트 참조 : 만약 a[i]의 값이 1이었다면? d[1] += 1 이 실행되는 것이다. 1번 카운트 1개 증가.."
   ]
  },
  {
   "cell_type": "code",
   "execution_count": 8,
   "metadata": {},
   "outputs": [
    {
     "name": "stdout",
     "output_type": "stream",
     "text": [
      "10\n",
      "1 3 2 2 5 6 7 4 5 9\n",
      "1 2 1 1 2 1 1 0 1 0 0 0 0 0 0 0 0 0 0 0 0 0 0 "
     ]
    }
   ],
   "source": [
    "# 6092\n",
    "n=int(input())\n",
    "a=input().split()\n",
    "for i in range(n):\n",
    "    a[i]=int(a[i])\n",
    "\n",
    "d=[]\n",
    "for i in range(23): # d 리스트 초기화\n",
    "    d.append(0)\n",
    "\n",
    "b=0\n",
    "for i in range(n):\n",
    "    b=a[i]\n",
    "    d[b-1]+=1\n",
    "    \n",
    "for i in range(23):\n",
    "    print(d[i],end=' ')"
   ]
  },
  {
   "cell_type": "code",
   "execution_count": 11,
   "metadata": {},
   "outputs": [
    {
     "name": "stdout",
     "output_type": "stream",
     "text": [
      "10\n",
      "1 3 2 2 5 6 7 4 5 9\n",
      "9 5 4 7 6 5 2 2 3 1 "
     ]
    }
   ],
   "source": [
    "# 6093\n",
    "n=int(input())\n",
    "a=input().split()\n",
    "for i in range(n):\n",
    "    a[i]=int(a[i])\n",
    "\n",
    "for i in range(n-1,-1,-1):\n",
    "    print(a[i],end=' ')"
   ]
  },
  {
   "cell_type": "code",
   "execution_count": 13,
   "metadata": {},
   "outputs": [
    {
     "name": "stdout",
     "output_type": "stream",
     "text": [
      "10\n",
      "10 4 2 3 6 6 7 9 8 5\n",
      "2\n"
     ]
    }
   ],
   "source": [
    "# 6094\n",
    "n=int(input())\n",
    "a=input().split()\n",
    "for i in range(n):\n",
    "    a[i]=int(a[i])\n",
    "\n",
    "m=a[0]\n",
    "for i in range(n):\n",
    "    if m>=a[i]:\n",
    "        m=a[i]\n",
    "print(m)"
   ]
  },
  {
   "cell_type": "markdown",
   "metadata": {},
   "source": [
    "### List Comprehensions\n",
    "#### d = [[0 for j in range(20)] for i in range(20)]"
   ]
  },
  {
   "cell_type": "code",
   "execution_count": 21,
   "metadata": {},
   "outputs": [
    {
     "name": "stdout",
     "output_type": "stream",
     "text": [
      "5\n",
      "1 1\n",
      "2 2\n",
      "3 3\n",
      "4 4\n",
      "5 5\n",
      "1 0 0 0 0 0 0 0 0 0 0 0 0 0 0 0 0 0 0 \n",
      "\n",
      "0 1 0 0 0 0 0 0 0 0 0 0 0 0 0 0 0 0 0 \n",
      "\n",
      "0 0 1 0 0 0 0 0 0 0 0 0 0 0 0 0 0 0 0 \n",
      "\n",
      "0 0 0 1 0 0 0 0 0 0 0 0 0 0 0 0 0 0 0 \n",
      "\n",
      "0 0 0 0 1 0 0 0 0 0 0 0 0 0 0 0 0 0 0 \n",
      "\n",
      "0 0 0 0 0 0 0 0 0 0 0 0 0 0 0 0 0 0 0 \n",
      "\n",
      "0 0 0 0 0 0 0 0 0 0 0 0 0 0 0 0 0 0 0 \n",
      "\n",
      "0 0 0 0 0 0 0 0 0 0 0 0 0 0 0 0 0 0 0 \n",
      "\n",
      "0 0 0 0 0 0 0 0 0 0 0 0 0 0 0 0 0 0 0 \n",
      "\n",
      "0 0 0 0 0 0 0 0 0 0 0 0 0 0 0 0 0 0 0 \n",
      "\n",
      "0 0 0 0 0 0 0 0 0 0 0 0 0 0 0 0 0 0 0 \n",
      "\n",
      "0 0 0 0 0 0 0 0 0 0 0 0 0 0 0 0 0 0 0 \n",
      "\n",
      "0 0 0 0 0 0 0 0 0 0 0 0 0 0 0 0 0 0 0 \n",
      "\n",
      "0 0 0 0 0 0 0 0 0 0 0 0 0 0 0 0 0 0 0 \n",
      "\n",
      "0 0 0 0 0 0 0 0 0 0 0 0 0 0 0 0 0 0 0 \n",
      "\n",
      "0 0 0 0 0 0 0 0 0 0 0 0 0 0 0 0 0 0 0 \n",
      "\n",
      "0 0 0 0 0 0 0 0 0 0 0 0 0 0 0 0 0 0 0 \n",
      "\n",
      "0 0 0 0 0 0 0 0 0 0 0 0 0 0 0 0 0 0 0 \n",
      "\n",
      "0 0 0 0 0 0 0 0 0 0 0 0 0 0 0 0 0 0 0 \n",
      "\n"
     ]
    }
   ],
   "source": [
    "# 6095\n",
    "d=[] # 바둑판 만들기\n",
    "for i in range(19):\n",
    "    d.append([])\n",
    "    for j in range(19):\n",
    "        d[i].append(0)\n",
    "\n",
    "n=int(input()) # 흰 돌 개수\n",
    "for i in range(n): # 흰 돌 좌표\n",
    "    x,y=input().split()\n",
    "    d[int(x)-1][int(y)-1]=1\n",
    "\n",
    "for i in range(19):\n",
    "    for j in range(19):\n",
    "        print(d[i][j],end=' ')\n",
    "    print(end=\"\\n\")"
   ]
  },
  {
   "cell_type": "code",
   "execution_count": 24,
   "metadata": {
    "scrolled": true
   },
   "outputs": [
    {
     "name": "stdout",
     "output_type": "stream",
     "text": [
      "0 0 0 0 0 0 0 0 0 1 0 1 0 0 0 0 0 0 0\n",
      "0 0 0 0 0 0 0 0 0 1 0 1 0 0 0 0 0 0 0\n",
      "0 0 0 0 0 0 0 0 0 1 0 1 0 0 0 0 0 0 0\n",
      "0 0 0 0 0 0 0 0 0 1 0 1 0 0 0 0 0 0 0\n",
      "0 0 0 0 0 0 0 0 0 1 0 1 0 0 0 0 0 0 0\n",
      "0 0 0 0 0 0 0 0 0 1 0 1 0 0 0 0 0 0 0\n",
      "0 0 0 0 0 0 0 0 0 1 0 1 0 0 0 0 0 0 0\n",
      "0 0 0 0 0 0 0 0 0 1 0 1 0 0 0 0 0 0 0\n",
      "0 0 0 0 0 0 0 0 0 1 0 1 0 0 0 0 0 0 0\n",
      "1 1 1 1 1 1 1 1 1 1 1 1 1 1 1 1 1 1 1\n",
      "0 0 0 0 0 0 0 0 0 1 0 1 0 0 0 0 0 0 0\n",
      "1 1 1 1 1 1 1 1 1 1 1 1 1 1 1 1 1 1 1\n",
      "0 0 0 0 0 0 0 0 0 1 0 1 0 0 0 0 0 0 0\n",
      "0 0 0 0 0 0 0 0 0 1 0 1 0 0 0 0 0 0 0\n",
      "0 0 0 0 0 0 0 0 0 1 0 1 0 0 0 0 0 0 0\n",
      "0 0 0 0 0 0 0 0 0 1 0 1 0 0 0 0 0 0 0\n",
      "0 0 0 0 0 0 0 0 0 1 0 1 0 0 0 0 0 0 0\n",
      "0 0 0 0 0 0 0 0 0 1 0 1 0 0 0 0 0 0 0\n",
      "0 0 0 0 0 0 0 0 0 1 0 1 0 0 0 0 0 0 0\n",
      "2\n",
      "10 10\n",
      "12 12\n",
      "0 0 0 0 0 0 0 0 0 0 0 0 0 0 0 0 0 0 0 \n",
      "0 0 0 0 0 0 0 0 0 0 0 0 0 0 0 0 0 0 0 \n",
      "0 0 0 0 0 0 0 0 0 0 0 0 0 0 0 0 0 0 0 \n",
      "0 0 0 0 0 0 0 0 0 0 0 0 0 0 0 0 0 0 0 \n",
      "0 0 0 0 0 0 0 0 0 0 0 0 0 0 0 0 0 0 0 \n",
      "0 0 0 0 0 0 0 0 0 0 0 0 0 0 0 0 0 0 0 \n",
      "0 0 0 0 0 0 0 0 0 0 0 0 0 0 0 0 0 0 0 \n",
      "0 0 0 0 0 0 0 0 0 0 0 0 0 0 0 0 0 0 0 \n",
      "0 0 0 0 0 0 0 0 0 0 0 0 0 0 0 0 0 0 0 \n",
      "0 0 0 0 0 0 0 0 0 1 0 1 0 0 0 0 0 0 0 \n",
      "0 0 0 0 0 0 0 0 0 0 0 0 0 0 0 0 0 0 0 \n",
      "0 0 0 0 0 0 0 0 0 1 0 1 0 0 0 0 0 0 0 \n",
      "0 0 0 0 0 0 0 0 0 0 0 0 0 0 0 0 0 0 0 \n",
      "0 0 0 0 0 0 0 0 0 0 0 0 0 0 0 0 0 0 0 \n",
      "0 0 0 0 0 0 0 0 0 0 0 0 0 0 0 0 0 0 0 \n",
      "0 0 0 0 0 0 0 0 0 0 0 0 0 0 0 0 0 0 0 \n",
      "0 0 0 0 0 0 0 0 0 0 0 0 0 0 0 0 0 0 0 \n",
      "0 0 0 0 0 0 0 0 0 0 0 0 0 0 0 0 0 0 0 \n",
      "0 0 0 0 0 0 0 0 0 0 0 0 0 0 0 0 0 0 0 \n"
     ]
    }
   ],
   "source": [
    "# 6096\n",
    "d=[] # 바둑판 입력받기\n",
    "for i in range(19):\n",
    "    n=input().split()\n",
    "    for k in range(19):\n",
    "        n[k]=int(n[k])\n",
    "    d.append(n)\n",
    "\n",
    "a=int(input()) # 뒤집기 횟수\n",
    "for i in range(a): \n",
    "    x,y=map(int,input().split()) # 뒤집기 좌표\n",
    "    for j in range(19): # 바둑알 뒤집기\n",
    "        if d[x-1][j]==0:\n",
    "            d[x-1][j]=1\n",
    "        else:\n",
    "            d[x-1][j]=0\n",
    "        if d[j][y-1]==0:\n",
    "            d[j][y-1]=1\n",
    "        else:\n",
    "            d[j][y-1]=0\n",
    "            \n",
    "for i in range(19): # 바둑판 출력\n",
    "    for j in range(19):\n",
    "        print(d[i][j],end=' ')\n",
    "    print()"
   ]
  },
  {
   "cell_type": "code",
   "execution_count": null,
   "metadata": {},
   "outputs": [],
   "source": [
    "# 6097\n",
    "h,w=map(int,input().split())\n",
    "b=[] \n",
    "for i in range(h):\n",
    "    b.append([])\n",
    "    for j in range(w):\n",
    "        b[i].append(0)\n",
    "#b=[[0 for j in range(w)] for i in range(h)]\n",
    "\n",
    "n=int(input())\n",
    "for i in range(n):\n",
    "    l,d,x,y=map(int,input().split()) # d:0은 가로, 1은 세로\n",
    "\n",
    "    for j in range(l):\n",
    "        if d==0:\n",
    "            b[x-1][y-1]=1\n",
    "            y+=1\n",
    "        else:\n",
    "            b[x-1][y-1]=1\n",
    "            x+=1\n",
    "            \n",
    "for i in range(h):\n",
    "    for j in range(w):\n",
    "        print(b[i][j],end=' ')\n",
    "    print()"
   ]
  },
  {
   "cell_type": "code",
   "execution_count": 6,
   "metadata": {},
   "outputs": [
    {
     "name": "stdout",
     "output_type": "stream",
     "text": [
      "1 1 1 1 1 1 1 1 1 1\n",
      "1 0 0 0 0 0 0 0 0 1\n",
      "1 0 0 0 0 0 0 0 0 1\n",
      "1 0 0 0 0 0 0 0 0 1\n",
      "1 0 0 0 0 0 0 0 0 1\n",
      "1 0 0 0 0 0 0 0 0 1\n",
      "1 0 0 0 0 0 2 0 0 1\n",
      "1 0 0 0 0 0 0 0 0 1\n",
      "1 0 0 0 0 0 0 0 0 1\n",
      "1 1 1 1 1 1 1 1 1 1\n",
      "1 1 1 1 1 1 1 1 1 1 \n",
      "1 9 9 9 9 9 9 9 9 1 \n",
      "1 0 0 0 0 0 0 0 9 1 \n",
      "1 0 0 0 0 0 0 0 9 1 \n",
      "1 0 0 0 0 0 0 0 9 1 \n",
      "1 0 0 0 0 0 0 0 9 1 \n",
      "1 0 0 0 0 0 2 0 9 1 \n",
      "1 0 0 0 0 0 0 0 9 1 \n",
      "1 0 0 0 0 0 0 0 9 1 \n",
      "1 1 1 1 1 1 1 1 1 1 \n"
     ]
    }
   ],
   "source": [
    "# 6098\n",
    "d=[] # 미로상자 입력받기\n",
    "for i in range(10):\n",
    "    n=input().split()\n",
    "    for k in range(10):\n",
    "        n[k]=int(n[k])\n",
    "    d.append(n)\n",
    "    \n",
    "# 0:갈 수 있는 곳 / 1:못 가는 곳 / 2:먹이\n",
    "flag=True\n",
    "x=1\n",
    "y=1\n",
    "for i in range(1,10):     # (10) 으로 하면 안됨 왜???\n",
    "    for j in range(1,10):\n",
    "        if d[x][y]==0:\n",
    "            d[x][y]=9\n",
    "            y+=1\n",
    "        elif d[x][y]==1:\n",
    "            y-=1\n",
    "            x+=1\n",
    "            break         # 안쪽 for문 나가기\n",
    "        elif d[x][y]==2:\n",
    "            d[x][y]=9\n",
    "            flag=False    # flag를 이용해 이중 for문 나가기\n",
    "    if flag==False:\n",
    "        break\n",
    "        \n",
    "for i in range(10):\n",
    "    for j in range(10):\n",
    "        print(d[i][j],end=' ')\n",
    "    print()"
   ]
  },
  {
   "cell_type": "code",
   "execution_count": null,
   "metadata": {},
   "outputs": [],
   "source": []
  }
 ],
 "metadata": {
  "kernelspec": {
   "display_name": "Python 3",
   "language": "python",
   "name": "python3"
  },
  "language_info": {
   "codemirror_mode": {
    "name": "ipython",
    "version": 3
   },
   "file_extension": ".py",
   "mimetype": "text/x-python",
   "name": "python",
   "nbconvert_exporter": "python",
   "pygments_lexer": "ipython3",
   "version": "3.8.3"
  }
 },
 "nbformat": 4,
 "nbformat_minor": 4
}
